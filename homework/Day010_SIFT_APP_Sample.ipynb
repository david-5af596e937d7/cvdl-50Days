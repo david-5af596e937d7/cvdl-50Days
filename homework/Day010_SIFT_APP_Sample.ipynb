{
 "cells": [
  {
   "cell_type": "markdown",
   "metadata": {},
   "source": [
    "# 範例\n",
    "\n",
    "透過 SIFT 特徵實作 Brute-Force Matching"
   ]
  },
  {
   "cell_type": "code",
   "execution_count": null,
   "metadata": {},
   "outputs": [],
   "source": [
    "import cv2\n",
    "import numpy as np\n",
    "\n",
    "# 以灰階方式讀入圖片\n",
    "img_query = cv2.imread('data/box.png', 0)\n",
    "img_train = cv2.imread('data/box_in_scene.png', 0)\n",
    "\n",
    "#印象中 img[y,x,c]\n",
    "# original   line: 79  #1.\n",
    "# img_query = img_query[::-1,::-1] #line：78  #2.\n",
    "# img_query = img_query[:,::-1] #左右  line：11  #3.\n",
    "# img_query = img_query[::-1,:] #上下 line：14   #4.\n",
    "\n",
    "# pt1 = np.array([[20,20], [30,200], [150,180]], dtype=np.float32)\n",
    "# pt2 = np.array([[15,35], [25,160], [120,140]], dtype=np.float32)\n",
    "# (rows, cols) = img_query.shape\n",
    "# M_affine = cv2.getAffineTransform(pt1, pt2)   #affine line：78\n",
    "# img_query = cv2.warpAffine(img_query, M_affine, (cols, rows))  #5.\n",
    "\n",
    "# (rows, cols) = img_query.shape\n",
    "# M_rotate = cv2.getRotationMatrix2D((cols//2, rows//2), 45, 0.5) #affine line：74\n",
    "# img_query = cv2.warpAffine(img_query, M_rotate, (cols, rows))   #6.\n",
    "\n",
    "# pt1 = np.array([[10,20], [30,200], [180,260],[180,35]], dtype=np.float32)\n",
    "# pt2 = np.array([[60,45], [25,160], [170,110],[190,35]], dtype=np.float32)\n",
    "# M = cv2.getPerspectiveTransform(pt1, pt2)\n",
    "# (rows, cols) = img_query.shape\n",
    "# img_query = cv2.warpPerspective(img_query, M, (rows, cols)) #Perspective line 4   #7.\n",
    "\n",
    "# 建立 SIFT 物件\n",
    "sift = cv2.xfeatures2d_SIFT.create()\n",
    "\n",
    "# 偵測並計算 SIFT 特徵 (keypoints 關鍵點, descriptor 128 維敘述子)\n",
    "kp_query, des_query = sift.detectAndCompute(img_query, None)\n",
    "kp_train, des_train = sift.detectAndCompute(img_train, None)"
   ]
  },
  {
   "cell_type": "code",
   "execution_count": null,
   "metadata": {},
   "outputs": [],
   "source": [
    "img_query.shape\n",
    "print(img_query.shape)"
   ]
  },
  {
   "cell_type": "code",
   "execution_count": null,
   "metadata": {},
   "outputs": [],
   "source": [
    "img_query.shape"
   ]
  },
  {
   "cell_type": "code",
   "execution_count": null,
   "metadata": {},
   "outputs": [],
   "source": [
    "cv2.imshow('matches', img_query)\n",
    "k = cv2.waitKey(0)\n",
    "cv2.destroyAllWindows()\n"
   ]
  },
  {
   "cell_type": "markdown",
   "metadata": {},
   "source": [
    "## 基於 SIFT 特徵的暴力比對\n",
    "\n",
    "- D.Lowe ratio test\n",
    "- knn 比對"
   ]
  },
  {
   "cell_type": "code",
   "execution_count": null,
   "metadata": {},
   "outputs": [],
   "source": [
    "# 建立 Brute-Force Matching 物件\n",
    "bf = cv2.BFMatcher(cv2.NORM_L2)\n",
    "\n",
    "# 以 knn 方式暴力比對特徵\n",
    "matches = bf.knnMatch(des_query, des_train, k=2)\n",
    "\n",
    "# 透過 D.Lowe ratio test 排除不適合的配對\n",
    "candidate = []\n",
    "for m, n in matches:\n",
    "    if m.distance < 0.75*n.distance:\n",
    "        candidate.append([m])\n",
    "\n",
    "# 顯示配對結果\n",
    "img_show = cv2.drawMatchesKnn(img_query, kp_query, img_train, kp_train, candidate, None, flags=2)\n",
    "\n",
    "print('line: {}'.format(len(candidate)))\n",
    "\n",
    "# 顯示圖片\n",
    "while True:\n",
    "    cv2.imshow('matches', img_show)\n",
    "    k = cv2.waitKey(0)\n",
    "    if k == 27:\n",
    "        cv2.destroyAllWindows()\n",
    "        break"
   ]
  }
 ],
 "metadata": {
  "kernelspec": {
   "display_name": "Python 3",
   "language": "python",
   "name": "python3"
  },
  "language_info": {
   "codemirror_mode": {
    "name": "ipython",
    "version": 3
   },
   "file_extension": ".py",
   "mimetype": "text/x-python",
   "name": "python",
   "nbconvert_exporter": "python",
   "pygments_lexer": "ipython3",
   "version": "3.6.8"
  }
 },
 "nbformat": 4,
 "nbformat_minor": 2
}
