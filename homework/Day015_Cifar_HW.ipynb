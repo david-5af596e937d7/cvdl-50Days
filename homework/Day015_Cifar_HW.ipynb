{
 "cells": [
  {
   "cell_type": "markdown",
   "metadata": {},
   "source": [
    "## 『本次練習內容』\n",
    "#### 運用這幾天所學觀念搭建一個CNN分類器"
   ]
  },
  {
   "cell_type": "markdown",
   "metadata": {},
   "source": [
    "## 『本次練習目的』\n",
    "  #### 熟悉CNN分類器搭建步驟與原理\n",
    "  #### 學員們可以嘗試不同搭法，如使用不同的Maxpooling層，用GlobalAveragePooling取代Flatten等等"
   ]
  },
  {
   "cell_type": "code",
   "execution_count": 1,
   "metadata": {},
   "outputs": [],
   "source": [
    "from tensorflow.keras.models import Sequential\n",
    "from tensorflow.keras.layers import Convolution2D\n",
    "from tensorflow.keras.layers import MaxPooling2D\n",
    "from tensorflow.keras.layers import Flatten\n",
    "from tensorflow.keras.layers import Dense\n",
    "from tensorflow.keras.layers import Dropout\n",
    "from tensorflow.keras.layers import BatchNormalization\n",
    "from tensorflow.keras.layers import AveragePooling2D\n",
    "from tensorflow.keras.datasets import cifar10\n",
    "import numpy as np\n",
    "import tensorflow as tf\n",
    "from sklearn.preprocessing import OneHotEncoder\n"
   ]
  },
  {
   "cell_type": "code",
   "execution_count": 2,
   "metadata": {},
   "outputs": [
    {
     "name": "stdout",
     "output_type": "stream",
     "text": [
      "(50000, 32, 32, 3)\n"
     ]
    }
   ],
   "source": [
    "(x_train, y_train), (x_test, y_test) = cifar10.load_data()\n",
    "\n",
    "print(x_train.shape) #(50000, 32, 32, 3)\n",
    "\n",
    "## Normalize Data\n",
    "def normalize(X_train,X_test):\n",
    "        mean = np.mean(X_train,axis=(0,1,2,3))\n",
    "        std = np.std(X_train, axis=(0, 1, 2, 3))\n",
    "        X_train = (X_train-mean)/(std+1e-7)\n",
    "        X_test = (X_test-mean)/(std+1e-7) \n",
    "        return X_train, X_test,mean,std\n",
    "    \n",
    "    \n",
    "## Normalize Training and Testset    \n",
    "x_train, x_test,mean_train,std_train = normalize(x_train, x_test) "
   ]
  },
  {
   "cell_type": "code",
   "execution_count": 3,
   "metadata": {},
   "outputs": [
    {
     "name": "stderr",
     "output_type": "stream",
     "text": [
      "/usr/local/lib/python3.5/dist-packages/sklearn/preprocessing/_encoders.py:368: FutureWarning: The handling of integer data will change in version 0.22. Currently, the categories are determined based on the range [0, max(values)], while in the future they will be determined based on the unique values.\n",
      "If you want the future behaviour and silence this warning, you can specify \"categories='auto'\".\n",
      "In case you used a LabelEncoder before this OneHotEncoder to convert the categories to integers, then you can now use the OneHotEncoder directly.\n",
      "  warnings.warn(msg, FutureWarning)\n"
     ]
    }
   ],
   "source": [
    "## OneHot Label 由(None, 1)-(None, 10)\n",
    "## ex. label=2,變成[0,0,1,0,0,0,0,0,0,0]\n",
    "one_hot=OneHotEncoder()\n",
    "y_train=one_hot.fit_transform(y_train).toarray()\n",
    "y_test=one_hot.transform(y_test).toarray()"
   ]
  },
  {
   "cell_type": "code",
   "execution_count": 4,
   "metadata": {},
   "outputs": [
    {
     "name": "stdout",
     "output_type": "stream",
     "text": [
      "(32, 32, 3)\n"
     ]
    }
   ],
   "source": [
    "print(x_train[0].shape)"
   ]
  },
  {
   "cell_type": "code",
   "execution_count": 5,
   "metadata": {},
   "outputs": [
    {
     "name": "stdout",
     "output_type": "stream",
     "text": [
      "_________________________________________________________________\n",
      "Layer (type)                 Output Shape              Param #   \n",
      "=================================================================\n",
      "conv2d (Conv2D)              (None, 30, 30, 32)        896       \n",
      "_________________________________________________________________\n",
      "batch_normalization (BatchNo (None, 30, 30, 32)        128       \n",
      "_________________________________________________________________\n",
      "conv2d_1 (Conv2D)            (None, 28, 28, 64)        18496     \n",
      "_________________________________________________________________\n",
      "conv2d_2 (Conv2D)            (None, 26, 26, 16)        9232      \n",
      "_________________________________________________________________\n",
      "dropout (Dropout)            (None, 26, 26, 16)        0         \n",
      "_________________________________________________________________\n",
      "batch_normalization_1 (Batch (None, 26, 26, 16)        64        \n",
      "_________________________________________________________________\n",
      "average_pooling2d (AveragePo (None, 5, 5, 16)          0         \n",
      "_________________________________________________________________\n",
      "flatten (Flatten)            (None, 400)               0         \n",
      "_________________________________________________________________\n",
      "dense (Dense)                (None, 32)                12832     \n",
      "_________________________________________________________________\n",
      "dense_1 (Dense)              (None, 10)                330       \n",
      "=================================================================\n",
      "Total params: 41,978\n",
      "Trainable params: 41,882\n",
      "Non-trainable params: 96\n",
      "_________________________________________________________________\n",
      "Epoch 1/20\n",
      "50000/50000 [==============================] - 11s 214us/step - loss: 1.4128 - acc: 0.4887\n",
      "Epoch 2/20\n",
      "50000/50000 [==============================] - 6s 129us/step - loss: 1.0496 - acc: 0.6258\n",
      "Epoch 3/20\n",
      "50000/50000 [==============================] - 6s 128us/step - loss: 0.9288 - acc: 0.6719\n",
      "Epoch 4/20\n",
      "50000/50000 [==============================] - 6s 127us/step - loss: 0.8481 - acc: 0.6994\n",
      "Epoch 5/20\n",
      "50000/50000 [==============================] - 7s 131us/step - loss: 0.7933 - acc: 0.7197\n",
      "Epoch 6/20\n",
      "50000/50000 [==============================] - 6s 127us/step - loss: 0.7542 - acc: 0.7337\n",
      "Epoch 7/20\n",
      "50000/50000 [==============================] - 6s 127us/step - loss: 0.7196 - acc: 0.7457\n",
      "Epoch 8/20\n",
      "50000/50000 [==============================] - 6s 128us/step - loss: 0.6915 - acc: 0.7576\n",
      "Epoch 9/20\n",
      "50000/50000 [==============================] - 6s 127us/step - loss: 0.6716 - acc: 0.7627\n",
      "Epoch 10/20\n",
      "50000/50000 [==============================] - 6s 129us/step - loss: 0.6482 - acc: 0.7713\n",
      "Epoch 11/20\n",
      "50000/50000 [==============================] - 6s 128us/step - loss: 0.6332 - acc: 0.7770\n",
      "Epoch 12/20\n",
      "50000/50000 [==============================] - 6s 124us/step - loss: 0.6154 - acc: 0.7833\n",
      "Epoch 13/20\n",
      "50000/50000 [==============================] - 6s 129us/step - loss: 0.6007 - acc: 0.7888\n",
      "Epoch 14/20\n",
      "50000/50000 [==============================] - 6s 126us/step - loss: 0.5846 - acc: 0.7947\n",
      "Epoch 15/20\n",
      "50000/50000 [==============================] - 6s 129us/step - loss: 0.5731 - acc: 0.7975\n",
      "Epoch 16/20\n",
      "50000/50000 [==============================] - 6s 126us/step - loss: 0.5613 - acc: 0.8002\n",
      "Epoch 17/20\n",
      "50000/50000 [==============================] - 6s 127us/step - loss: 0.5536 - acc: 0.8035\n",
      "Epoch 18/20\n",
      "50000/50000 [==============================] - 6s 129us/step - loss: 0.5424 - acc: 0.8067\n",
      "Epoch 19/20\n",
      "50000/50000 [==============================] - 6s 128us/step - loss: 0.5341 - acc: 0.8106\n",
      "Epoch 20/20\n",
      "50000/50000 [==============================] - 6s 126us/step - loss: 0.5234 - acc: 0.8137\n"
     ]
    },
    {
     "data": {
      "text/plain": [
       "<tensorflow.python.keras.callbacks.History at 0x7f1b415b0e10>"
      ]
     },
     "execution_count": 5,
     "metadata": {},
     "output_type": "execute_result"
    }
   ],
   "source": [
    "\n",
    "classifier=Sequential()\n",
    "\n",
    "#卷積組合\n",
    "classifier.add(Convolution2D(32,kernel_size=(3,3),input_shape=x_train[0].shape,activation='relu'))#32,3,3,input_shape=(32,32,3),activation='relu''\n",
    "classifier.add(BatchNormalization())\n",
    "\n",
    "# #卷積組合\n",
    "classifier.add(Convolution2D(64,kernel_size=(3,3),activation='relu'))\n",
    "classifier.add(Convolution2D(16,kernel_size=(3,3),activation='relu'))\n",
    "classifier.add(Dropout(0.25))  \n",
    "classifier.add(BatchNormalization())\n",
    "\n",
    "\n",
    "#flatten\n",
    "# classifier.add(MaxPooling2D(pool_size=(3,3)))\n",
    "classifier.add(AveragePooling2D(pool_size=(5, 5)))\n",
    "classifier.add(Flatten())\n",
    "\n",
    "#FC\n",
    "classifier.add(Dense(units=32,activation='relu')) #output_dim=100,activation=relu\n",
    "\n",
    "#輸出\n",
    "classifier.add(Dense(units=10,activation='softmax'))\n",
    "\n",
    "classifier.summary()\n",
    "\n",
    "#超過兩個就要選categorical_crossentrophy\n",
    "classifier.compile(optimizer = 'adam', loss = 'categorical_crossentropy', metrics = ['accuracy'])\n",
    "classifier.fit(x_train,y_train,batch_size=100,epochs=20)"
   ]
  },
  {
   "cell_type": "markdown",
   "metadata": {},
   "source": [
    "## 預測新圖片，輸入影像前處理要與訓練時相同\n",
    "#### ((X-mean)/(std+1e-7) ):這裡的mean跟std是訓練集的\n",
    "## 維度如下方示範"
   ]
  },
  {
   "cell_type": "code",
   "execution_count": 6,
   "metadata": {},
   "outputs": [
    {
     "data": {
      "text/plain": [
       "array([[3.8417632e-04, 3.4372096e-07, 3.6929153e-02, 8.2600147e-01,\n",
       "        1.1141068e-01, 5.1253019e-03, 1.8133685e-02, 1.9862619e-03,\n",
       "        2.4848241e-05, 4.0777854e-06]], dtype=float32)"
      ]
     },
     "execution_count": 6,
     "metadata": {},
     "output_type": "execute_result"
    }
   ],
   "source": [
    "input_example=(np.zeros(shape=(1,32,32,3))-mean_train)/(std_train+1e-7) \n",
    "classifier.predict(input_example)"
   ]
  }
 ],
 "metadata": {
  "kernelspec": {
   "display_name": "Python 3",
   "language": "python",
   "name": "python3"
  },
  "language_info": {
   "codemirror_mode": {
    "name": "ipython",
    "version": 3
   },
   "file_extension": ".py",
   "mimetype": "text/x-python",
   "name": "python",
   "nbconvert_exporter": "python",
   "pygments_lexer": "ipython3",
   "version": "3.5.2"
  }
 },
 "nbformat": 4,
 "nbformat_minor": 2
}
